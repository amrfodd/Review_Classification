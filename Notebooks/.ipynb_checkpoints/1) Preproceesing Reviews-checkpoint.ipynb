{
 "cells": [
  {
   "cell_type": "code",
   "execution_count": 18,
   "id": "9a7da9f7",
   "metadata": {},
   "outputs": [
    {
     "name": "stderr",
     "output_type": "stream",
     "text": [
      "[nltk_data] Downloading package stopwords to\n",
      "[nltk_data]     C:\\Users\\amr_a\\AppData\\Roaming\\nltk_data...\n",
      "[nltk_data]   Package stopwords is already up-to-date!\n"
     ]
    }
   ],
   "source": [
    "# Import libraries\n",
    "import pandas as pd\n",
    "import string\n",
    "import contractions\n",
    "from bs4 import BeautifulSoup\n",
    "import nltk \n",
    "import spacy\n",
    "import string\n",
    "import itertools\n",
    "import re\n",
    "\n",
    "nltk.download('stopwords')\n",
    "from nltk.corpus import stopwords"
   ]
  },
  {
   "cell_type": "markdown",
   "id": "4f2c00c5",
   "metadata": {},
   "source": [
    "### 1) Load data and concat them"
   ]
  },
  {
   "cell_type": "code",
   "execution_count": 19,
   "id": "3649cf33",
   "metadata": {},
   "outputs": [
    {
     "data": {
      "text/html": [
       "<div>\n",
       "<style scoped>\n",
       "    .dataframe tbody tr th:only-of-type {\n",
       "        vertical-align: middle;\n",
       "    }\n",
       "\n",
       "    .dataframe tbody tr th {\n",
       "        vertical-align: top;\n",
       "    }\n",
       "\n",
       "    .dataframe thead th {\n",
       "        text-align: right;\n",
       "    }\n",
       "</style>\n",
       "<table border=\"1\" class=\"dataframe\">\n",
       "  <thead>\n",
       "    <tr style=\"text-align: right;\">\n",
       "      <th></th>\n",
       "      <th>Sentiment</th>\n",
       "      <th>Class</th>\n",
       "    </tr>\n",
       "  </thead>\n",
       "  <tbody>\n",
       "    <tr>\n",
       "      <th>0</th>\n",
       "      <td>Crust is not good.</td>\n",
       "      <td>0</td>\n",
       "    </tr>\n",
       "    <tr>\n",
       "      <th>1</th>\n",
       "      <td>Not tasty and the texture was just nasty.</td>\n",
       "      <td>0</td>\n",
       "    </tr>\n",
       "    <tr>\n",
       "      <th>2</th>\n",
       "      <td>Stopped by during the late May bank holiday of...</td>\n",
       "      <td>1</td>\n",
       "    </tr>\n",
       "    <tr>\n",
       "      <th>3</th>\n",
       "      <td>The selection on the menu was great and so wer...</td>\n",
       "      <td>1</td>\n",
       "    </tr>\n",
       "    <tr>\n",
       "      <th>4</th>\n",
       "      <td>Now I am getting angry and I want my damn pho.</td>\n",
       "      <td>0</td>\n",
       "    </tr>\n",
       "  </tbody>\n",
       "</table>\n",
       "</div>"
      ],
      "text/plain": [
       "                                           Sentiment Class\n",
       "0                                 Crust is not good.     0\n",
       "1          Not tasty and the texture was just nasty.     0\n",
       "2  Stopped by during the late May bank holiday of...     1\n",
       "3  The selection on the menu was great and so wer...     1\n",
       "4     Now I am getting angry and I want my damn pho.     0"
      ]
     },
     "execution_count": 19,
     "metadata": {},
     "output_type": "execute_result"
    }
   ],
   "source": [
    "yelp = pd.read_table('../Data/yelp_labelled.txt', on_bad_lines='skip')\n",
    "\n",
    "fir = yelp.columns  #Get the first row for the header\n",
    "new_header = ['Sentiment', 'Class'] #Take the data less the header row\n",
    "yelp.columns = new_header #Set the header row as the df header\n",
    "yelp.iloc[-1] = fir\n",
    "\n",
    "yelp.head()"
   ]
  },
  {
   "cell_type": "code",
   "execution_count": 20,
   "id": "a7161af5",
   "metadata": {},
   "outputs": [
    {
     "data": {
      "text/html": [
       "<div>\n",
       "<style scoped>\n",
       "    .dataframe tbody tr th:only-of-type {\n",
       "        vertical-align: middle;\n",
       "    }\n",
       "\n",
       "    .dataframe tbody tr th {\n",
       "        vertical-align: top;\n",
       "    }\n",
       "\n",
       "    .dataframe thead th {\n",
       "        text-align: right;\n",
       "    }\n",
       "</style>\n",
       "<table border=\"1\" class=\"dataframe\">\n",
       "  <thead>\n",
       "    <tr style=\"text-align: right;\">\n",
       "      <th></th>\n",
       "      <th>Sentiment</th>\n",
       "      <th>Class</th>\n",
       "    </tr>\n",
       "  </thead>\n",
       "  <tbody>\n",
       "    <tr>\n",
       "      <th>0</th>\n",
       "      <td>Good case, Excellent value.</td>\n",
       "      <td>1</td>\n",
       "    </tr>\n",
       "    <tr>\n",
       "      <th>1</th>\n",
       "      <td>Great for the jawbone.</td>\n",
       "      <td>1</td>\n",
       "    </tr>\n",
       "    <tr>\n",
       "      <th>2</th>\n",
       "      <td>Tied to charger for conversations lasting more...</td>\n",
       "      <td>0</td>\n",
       "    </tr>\n",
       "    <tr>\n",
       "      <th>3</th>\n",
       "      <td>The mic is great.</td>\n",
       "      <td>1</td>\n",
       "    </tr>\n",
       "    <tr>\n",
       "      <th>4</th>\n",
       "      <td>I have to jiggle the plug to get it to line up...</td>\n",
       "      <td>0</td>\n",
       "    </tr>\n",
       "  </tbody>\n",
       "</table>\n",
       "</div>"
      ],
      "text/plain": [
       "                                           Sentiment Class\n",
       "0                        Good case, Excellent value.     1\n",
       "1                             Great for the jawbone.     1\n",
       "2  Tied to charger for conversations lasting more...     0\n",
       "3                                  The mic is great.     1\n",
       "4  I have to jiggle the plug to get it to line up...     0"
      ]
     },
     "execution_count": 20,
     "metadata": {},
     "output_type": "execute_result"
    }
   ],
   "source": [
    "amazon = pd.read_table('../Data/amazon_cells_labelled.txt', on_bad_lines='skip')\n",
    "\n",
    "fir = amazon.columns  #Get the first row for the header\n",
    "new_header = ['Sentiment', 'Class'] #Take the data less the header row\n",
    "amazon.columns = new_header #Set the header row as the df header\n",
    "amazon.iloc[-1] = fir\n",
    "\n",
    "amazon.head()"
   ]
  },
  {
   "cell_type": "code",
   "execution_count": 21,
   "id": "4de1641f",
   "metadata": {},
   "outputs": [
    {
     "data": {
      "text/plain": [
       "(999, 2)"
      ]
     },
     "execution_count": 21,
     "metadata": {},
     "output_type": "execute_result"
    }
   ],
   "source": [
    "amazon.shape"
   ]
  },
  {
   "cell_type": "code",
   "execution_count": 22,
   "id": "50acad04",
   "metadata": {},
   "outputs": [
    {
     "data": {
      "text/html": [
       "<div>\n",
       "<style scoped>\n",
       "    .dataframe tbody tr th:only-of-type {\n",
       "        vertical-align: middle;\n",
       "    }\n",
       "\n",
       "    .dataframe tbody tr th {\n",
       "        vertical-align: top;\n",
       "    }\n",
       "\n",
       "    .dataframe thead th {\n",
       "        text-align: right;\n",
       "    }\n",
       "</style>\n",
       "<table border=\"1\" class=\"dataframe\">\n",
       "  <thead>\n",
       "    <tr style=\"text-align: right;\">\n",
       "      <th></th>\n",
       "      <th>Sentiment</th>\n",
       "      <th>Class</th>\n",
       "    </tr>\n",
       "  </thead>\n",
       "  <tbody>\n",
       "    <tr>\n",
       "      <th>0</th>\n",
       "      <td>Not sure who was more lost - the flat characte...</td>\n",
       "      <td>0</td>\n",
       "    </tr>\n",
       "    <tr>\n",
       "      <th>1</th>\n",
       "      <td>Attempting artiness with black &amp; white and cle...</td>\n",
       "      <td>0</td>\n",
       "    </tr>\n",
       "    <tr>\n",
       "      <th>2</th>\n",
       "      <td>Very little music or anything to speak of.</td>\n",
       "      <td>0</td>\n",
       "    </tr>\n",
       "    <tr>\n",
       "      <th>3</th>\n",
       "      <td>The best scene in the movie was when Gerardo i...</td>\n",
       "      <td>1</td>\n",
       "    </tr>\n",
       "    <tr>\n",
       "      <th>4</th>\n",
       "      <td>The rest of the movie lacks art, charm, meanin...</td>\n",
       "      <td>0</td>\n",
       "    </tr>\n",
       "  </tbody>\n",
       "</table>\n",
       "</div>"
      ],
      "text/plain": [
       "                                           Sentiment Class\n",
       "0  Not sure who was more lost - the flat characte...     0\n",
       "1  Attempting artiness with black & white and cle...     0\n",
       "2       Very little music or anything to speak of.       0\n",
       "3  The best scene in the movie was when Gerardo i...     1\n",
       "4  The rest of the movie lacks art, charm, meanin...     0"
      ]
     },
     "execution_count": 22,
     "metadata": {},
     "output_type": "execute_result"
    }
   ],
   "source": [
    "imdb = pd.read_table('../Data/imdb_labelled.txt', on_bad_lines='skip')\n",
    "\n",
    "fir = imdb.columns  #Get the first row for the header\n",
    "new_header = ['Sentiment', 'Class'] #Take the data less the header row\n",
    "imdb.columns = new_header #Set the header row as the df header\n",
    "imdb.iloc[-1] = fir\n",
    "\n",
    "imdb.head()"
   ]
  },
  {
   "cell_type": "code",
   "execution_count": 23,
   "id": "a2e076ab",
   "metadata": {},
   "outputs": [
    {
     "data": {
      "text/plain": [
       "(747, 2)"
      ]
     },
     "execution_count": 23,
     "metadata": {},
     "output_type": "execute_result"
    }
   ],
   "source": [
    "imdb.shape"
   ]
  },
  {
   "cell_type": "code",
   "execution_count": 24,
   "id": "e368e7ac",
   "metadata": {},
   "outputs": [
    {
     "data": {
      "text/plain": [
       "(2745, 2)"
      ]
     },
     "execution_count": 24,
     "metadata": {},
     "output_type": "execute_result"
    }
   ],
   "source": [
    "data = pd.concat([yelp, amazon])\n",
    "\n",
    "data = pd.concat([data, imdb])\n",
    "\n",
    "data.shape"
   ]
  },
  {
   "cell_type": "code",
   "execution_count": 25,
   "id": "33ce5dfc",
   "metadata": {},
   "outputs": [
    {
     "data": {
      "text/html": [
       "<div>\n",
       "<style scoped>\n",
       "    .dataframe tbody tr th:only-of-type {\n",
       "        vertical-align: middle;\n",
       "    }\n",
       "\n",
       "    .dataframe tbody tr th {\n",
       "        vertical-align: top;\n",
       "    }\n",
       "\n",
       "    .dataframe thead th {\n",
       "        text-align: right;\n",
       "    }\n",
       "</style>\n",
       "<table border=\"1\" class=\"dataframe\">\n",
       "  <thead>\n",
       "    <tr style=\"text-align: right;\">\n",
       "      <th></th>\n",
       "      <th>Sentiment</th>\n",
       "      <th>Class</th>\n",
       "    </tr>\n",
       "  </thead>\n",
       "  <tbody>\n",
       "    <tr>\n",
       "      <th>0</th>\n",
       "      <td>Crust is not good.</td>\n",
       "      <td>0</td>\n",
       "    </tr>\n",
       "    <tr>\n",
       "      <th>1</th>\n",
       "      <td>Not tasty and the texture was just nasty.</td>\n",
       "      <td>0</td>\n",
       "    </tr>\n",
       "    <tr>\n",
       "      <th>2</th>\n",
       "      <td>Stopped by during the late May bank holiday of...</td>\n",
       "      <td>1</td>\n",
       "    </tr>\n",
       "    <tr>\n",
       "      <th>3</th>\n",
       "      <td>The selection on the menu was great and so wer...</td>\n",
       "      <td>1</td>\n",
       "    </tr>\n",
       "    <tr>\n",
       "      <th>4</th>\n",
       "      <td>Now I am getting angry and I want my damn pho.</td>\n",
       "      <td>0</td>\n",
       "    </tr>\n",
       "  </tbody>\n",
       "</table>\n",
       "</div>"
      ],
      "text/plain": [
       "                                           Sentiment Class\n",
       "0                                 Crust is not good.     0\n",
       "1          Not tasty and the texture was just nasty.     0\n",
       "2  Stopped by during the late May bank holiday of...     1\n",
       "3  The selection on the menu was great and so wer...     1\n",
       "4     Now I am getting angry and I want my damn pho.     0"
      ]
     },
     "execution_count": 25,
     "metadata": {},
     "output_type": "execute_result"
    }
   ],
   "source": [
    "data.head()"
   ]
  },
  {
   "cell_type": "code",
   "execution_count": 27,
   "id": "ceb7e990",
   "metadata": {},
   "outputs": [
    {
     "data": {
      "text/plain": [
       "Sentiment    0\n",
       "Class        0\n",
       "dtype: int64"
      ]
     },
     "execution_count": 27,
     "metadata": {},
     "output_type": "execute_result"
    }
   ],
   "source": [
    "data.isnull().sum()"
   ]
  },
  {
   "cell_type": "markdown",
   "id": "0913e90f",
   "metadata": {},
   "source": [
    "### 2) Text Preprocessing"
   ]
  },
  {
   "cell_type": "code",
   "execution_count": 28,
   "id": "90a148ce",
   "metadata": {},
   "outputs": [],
   "source": [
    "# 2) Normalizing Text (lower) \n",
    "\n",
    "def normalize(content):\n",
    "    content = content.lower()\n",
    "    return content\n",
    "\n",
    "# 3) Removing Puncuatations\n",
    "\n",
    "def remove_punct(content):\n",
    "    content = content.translate(content.maketrans(\"\", \"\", string.punctuation))\n",
    "    return content\n",
    "\n",
    "#  4) cleaning digits\n",
    "\n",
    "def remove_num(content):\n",
    "    content = ''.join([i for i in content if not i.isdigit()])\n",
    "\n",
    "    return content\n",
    "\n",
    "# 5) Remove extra-space\n",
    "\n",
    "def remove_spaces(content):\n",
    "    content = \" \".join(content.split())\n",
    "\n",
    "    return content\n",
    "\n",
    "# 6)# Remove Contraction\n",
    "\n",
    "def remove_cont(content):\n",
    "    content = contractions.fix(content)\n",
    "    \n",
    "    return content\n",
    "\n",
    "# 7) Remove Html Tags\n",
    "\n",
    "def remove_html(content):\n",
    "    # parse html content\n",
    "    soup = BeautifulSoup(content, \"html.parser\")\n",
    "\n",
    "    for data in soup(['style', 'script', 'code', 'a']):\n",
    "        # Remove tags\n",
    "        data.decompose()\n",
    "    # return data by retrieving the tag content\n",
    "    content = ' '.join(soup.stripped_strings)\n",
    "    \n",
    "    return content\n",
    "\n",
    "# 8) Remove URLs and E-mails (UniCode)\n",
    "\n",
    "def remove_unicode(content):\n",
    "    content = re.sub(r\"(@\\[A-Za-z0-9]+)|([^0-9A-Za-z \\t])|(\\w+:\\/\\/\\S+)|^rt|http.+?\", \"\", content)\n",
    "    return content\n",
    "\n",
    "# 9) Removing Stop Words\n",
    "\n",
    "def remove_stopword(content):\n",
    "    STOPWORDS = set(stopwords.words('english'))\n",
    "    content = \" \".join([word for word in str(content).split() if word not in STOPWORDS])\n",
    "    return content\n",
    "\n",
    "# 10) Standardizing and Spell Check\n",
    "\n",
    "def Standardize(content):\n",
    "    content = ''.join(''.join(s)[:2] for _, s in itertools.groupby(content))\n",
    "    spell = Speller(lang='en')\n",
    "    content = spell(content)\n",
    "    return content\n",
    "\n",
    "# 11) Remove some Extra-words\n",
    "\n",
    "def remove_extrawords(content):\n",
    "    stop=['href','lt','gt','ii','iii','ie','quot','com']  ## This all words are most repeated words it does not make any sense\n",
    "    content = content.split(\" \")\n",
    "    filtered_list=[]\n",
    "    for i in content:\n",
    "        if i not in stop:\n",
    "            filtered_list.append(i)\n",
    "            \n",
    "    content = ' '.join(filtered_list)\n",
    "    return content"
   ]
  },
  {
   "cell_type": "code",
   "execution_count": 29,
   "id": "8c385bbc",
   "metadata": {},
   "outputs": [],
   "source": [
    "def clean_text(content):\n",
    "    \n",
    "    # Normalize\n",
    "    \n",
    "    Normalized_content = normalize(content)\n",
    "    \n",
    "    # Removing Puncuatations\n",
    "    \n",
    "    clean_content = remove_punct(Normalized_content)\n",
    "\n",
    "    # cleaning digits\n",
    "\n",
    "    clean_content = remove_num(clean_content)\n",
    "\n",
    "    # Remove extra-space\n",
    "    \n",
    "    clean_content = remove_spaces(clean_content)\n",
    "    \n",
    "    # Remove Contraction\n",
    "\n",
    "    clean_content = remove_cont(clean_content)\n",
    "    \n",
    "    # Remove Html Tags\n",
    "\n",
    "    clean_content = remove_html(clean_content)\n",
    "    \n",
    "    # Remove URLs and E-mails (UniCode)\n",
    "\n",
    "    clean_content = remove_unicode(clean_content)\n",
    "    \n",
    "    # Removing Stop Words\n",
    "\n",
    "    clean_content = remove_stopword(clean_content)\n",
    "\n",
    "    # Remove some Extra-words\n",
    "    \n",
    "    clean_content = remove_extrawords(clean_content)\n",
    "\n",
    "    return clean_content"
   ]
  },
  {
   "cell_type": "code",
   "execution_count": 30,
   "id": "2c59f92e",
   "metadata": {},
   "outputs": [],
   "source": [
    "data['Sentiment'] = data['Sentiment'].apply(clean_text)"
   ]
  },
  {
   "cell_type": "code",
   "execution_count": 31,
   "id": "3c5c0fe6",
   "metadata": {},
   "outputs": [
    {
     "data": {
      "text/html": [
       "<div>\n",
       "<style scoped>\n",
       "    .dataframe tbody tr th:only-of-type {\n",
       "        vertical-align: middle;\n",
       "    }\n",
       "\n",
       "    .dataframe tbody tr th {\n",
       "        vertical-align: top;\n",
       "    }\n",
       "\n",
       "    .dataframe thead th {\n",
       "        text-align: right;\n",
       "    }\n",
       "</style>\n",
       "<table border=\"1\" class=\"dataframe\">\n",
       "  <thead>\n",
       "    <tr style=\"text-align: right;\">\n",
       "      <th></th>\n",
       "      <th>Sentiment</th>\n",
       "      <th>Class</th>\n",
       "    </tr>\n",
       "  </thead>\n",
       "  <tbody>\n",
       "    <tr>\n",
       "      <th>0</th>\n",
       "      <td>crust good</td>\n",
       "      <td>0</td>\n",
       "    </tr>\n",
       "    <tr>\n",
       "      <th>1</th>\n",
       "      <td>tasty texture nasty</td>\n",
       "      <td>0</td>\n",
       "    </tr>\n",
       "    <tr>\n",
       "      <th>2</th>\n",
       "      <td>stopped late may bank holiday rick steve recom...</td>\n",
       "      <td>1</td>\n",
       "    </tr>\n",
       "    <tr>\n",
       "      <th>3</th>\n",
       "      <td>selection menu great prices</td>\n",
       "      <td>1</td>\n",
       "    </tr>\n",
       "    <tr>\n",
       "      <th>4</th>\n",
       "      <td>getting angry want damn pho</td>\n",
       "      <td>0</td>\n",
       "    </tr>\n",
       "  </tbody>\n",
       "</table>\n",
       "</div>"
      ],
      "text/plain": [
       "                                           Sentiment Class\n",
       "0                                         crust good     0\n",
       "1                                tasty texture nasty     0\n",
       "2  stopped late may bank holiday rick steve recom...     1\n",
       "3                        selection menu great prices     1\n",
       "4                        getting angry want damn pho     0"
      ]
     },
     "execution_count": 31,
     "metadata": {},
     "output_type": "execute_result"
    }
   ],
   "source": [
    "data.head()"
   ]
  },
  {
   "cell_type": "code",
   "execution_count": 17,
   "id": "cc30e703",
   "metadata": {},
   "outputs": [],
   "source": [
    "data.to_csv(r'../Data/cleaned_reviews.csv', index = False)"
   ]
  },
  {
   "cell_type": "code",
   "execution_count": null,
   "id": "88e01c36",
   "metadata": {},
   "outputs": [],
   "source": []
  }
 ],
 "metadata": {
  "kernelspec": {
   "display_name": "Python 3 (ipykernel)",
   "language": "python",
   "name": "python3"
  },
  "language_info": {
   "codemirror_mode": {
    "name": "ipython",
    "version": 3
   },
   "file_extension": ".py",
   "mimetype": "text/x-python",
   "name": "python",
   "nbconvert_exporter": "python",
   "pygments_lexer": "ipython3",
   "version": "3.9.12"
  }
 },
 "nbformat": 4,
 "nbformat_minor": 5
}
