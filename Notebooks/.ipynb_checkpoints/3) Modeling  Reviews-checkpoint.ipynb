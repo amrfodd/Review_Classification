{
 "cells": [
  {
   "cell_type": "code",
   "execution_count": 28,
   "id": "9a7da9f7",
   "metadata": {},
   "outputs": [],
   "source": [
    "import numpy as np\n",
    "import pandas as pd\n",
    "from sklearn.metrics import classification_report, confusion_matrix\n",
    "from sklearn.model_selection import train_test_split\n",
    "\n",
    "from sklearn import svm\n",
    "from sklearn.feature_extraction.text import TfidfVectorizer\n",
    "import pandas as pd\n",
    "import pickle\n",
    "import matplotlib.pyplot as plt\n",
    "import seaborn as sns\n",
    "from sklearn.model_selection import cross_val_score\n",
    "from sklearn.model_selection import StratifiedShuffleSplit\n",
    "from sklearn.model_selection import GridSearchCV\n",
    "\n",
    "from sklearn.linear_model import LogisticRegression\n",
    "from sklearn.svm import SVC\n",
    "\n",
    "\n",
    "from tensorflow.keras import backend as k\n",
    "from tensorflow.keras.models import Model, load_model, save_model\n",
    "from tensorflow.keras import layers\n",
    "from tensorflow.keras.layers import Input, Dropout, BatchNormalization, Activation\n",
    "from keras.layers.pooling import MaxPooling2D\n",
    "from tensorflow.keras.callbacks import EarlyStopping, ModelCheckpoint, ReduceLROnPlateau\n",
    "from tensorflow.keras import backend as K\n",
    "from tensorflow.keras import optimizers"
   ]
  },
  {
   "cell_type": "markdown",
   "id": "6879fd2d",
   "metadata": {},
   "source": [
    "### 1) Load vectors"
   ]
  },
  {
   "cell_type": "code",
   "execution_count": 3,
   "id": "3c187b4a",
   "metadata": {},
   "outputs": [],
   "source": [
    "### Load Bag-Of-words Vectors\n",
    "\n",
    "with open('../Vectors/train_vector.pkl', 'rb') as handle:\n",
    "    X_train = pickle.load(handle)\n",
    "    \n",
    "\n",
    "with open('../Vectors/test_vector.pkl', 'rb') as handle:\n",
    "    X_test = pickle.load(handle)"
   ]
  },
  {
   "cell_type": "code",
   "execution_count": 4,
   "id": "bd420fc3",
   "metadata": {},
   "outputs": [],
   "source": [
    "### Load label Vectors\n",
    "\n",
    "with open('../Vectors/y_train.pkl', 'rb') as handle:\n",
    "    y_train = pickle.load(handle)\n",
    "    \n",
    "\n",
    "with open('../Vectors/y_test.pkl', 'rb') as handle:\n",
    "    y_test = pickle.load(handle)"
   ]
  },
  {
   "cell_type": "markdown",
   "id": "cb85371b",
   "metadata": {},
   "source": [
    "# Defining a Baseline Model"
   ]
  },
  {
   "cell_type": "code",
   "execution_count": 8,
   "id": "267d3c0a",
   "metadata": {},
   "outputs": [
    {
     "name": "stdout",
     "output_type": "stream",
     "text": [
      "Accuracy: 0.8105646630236795\n"
     ]
    }
   ],
   "source": [
    "classifier = LogisticRegression()\n",
    "classifier.fit(X_train, y_train)\n",
    "score = classifier.score(X_test, y_test)\n",
    "\n",
    "print(\"Accuracy:\", score)"
   ]
  },
  {
   "cell_type": "markdown",
   "id": "5103f021",
   "metadata": {},
   "source": [
    "### Using SVM"
   ]
  },
  {
   "cell_type": "code",
   "execution_count": 11,
   "id": "a7b69a43",
   "metadata": {},
   "outputs": [
    {
     "name": "stdout",
     "output_type": "stream",
     "text": [
      "Fitting 5 folds for each of 12 candidates, totalling 60 fits\n",
      "{'C': 0.1, 'gamma': 'scale', 'kernel': 'linear'} 0.7772209567198177\n"
     ]
    }
   ],
   "source": [
    "# defining parameter range \n",
    "\n",
    "    \n",
    "param_grid = {'C': [0.1, 10, 100],  \n",
    "              'gamma': [1, 3, 4, 7, 12], \n",
    "              'gamma':['scale', 'auto'],\n",
    "              'kernel': ['linear', 'rbf']}     \n",
    "    \n",
    "cv = StratifiedShuffleSplit(n_splits=5, test_size=0.2, random_state=42)\n",
    "\n",
    "grid = GridSearchCV(SVC(), param_grid=param_grid, cv=cv, refit = True, verbose = 2,n_jobs=-1)\n",
    "\n",
    "# fitting the model for grid search \n",
    "grid.fit(X_train, y_train) \n",
    "    \n",
    "# print best parameter after tuning \n",
    "\n",
    "print(grid.best_params_, grid.best_score_) \n",
    "\n",
    "grid_validation = grid.predict(X_test) "
   ]
  },
  {
   "cell_type": "code",
   "execution_count": 16,
   "id": "2226b110",
   "metadata": {},
   "outputs": [
    {
     "data": {
      "text/html": [
       "<div>\n",
       "<style scoped>\n",
       "    .dataframe tbody tr th:only-of-type {\n",
       "        vertical-align: middle;\n",
       "    }\n",
       "\n",
       "    .dataframe tbody tr th {\n",
       "        vertical-align: top;\n",
       "    }\n",
       "\n",
       "    .dataframe thead th {\n",
       "        text-align: right;\n",
       "    }\n",
       "</style>\n",
       "<table border=\"1\" class=\"dataframe\">\n",
       "  <thead>\n",
       "    <tr style=\"text-align: right;\">\n",
       "      <th></th>\n",
       "      <th>mean_fit_time</th>\n",
       "      <th>std_fit_time</th>\n",
       "      <th>mean_score_time</th>\n",
       "      <th>std_score_time</th>\n",
       "      <th>param_C</th>\n",
       "      <th>param_gamma</th>\n",
       "      <th>param_kernel</th>\n",
       "      <th>params</th>\n",
       "      <th>split0_test_score</th>\n",
       "      <th>split1_test_score</th>\n",
       "      <th>split2_test_score</th>\n",
       "      <th>split3_test_score</th>\n",
       "      <th>split4_test_score</th>\n",
       "      <th>mean_test_score</th>\n",
       "      <th>std_test_score</th>\n",
       "      <th>rank_test_score</th>\n",
       "    </tr>\n",
       "  </thead>\n",
       "  <tbody>\n",
       "    <tr>\n",
       "      <th>0</th>\n",
       "      <td>0.383971</td>\n",
       "      <td>0.017182</td>\n",
       "      <td>0.074401</td>\n",
       "      <td>0.003192</td>\n",
       "      <td>0.1</td>\n",
       "      <td>scale</td>\n",
       "      <td>linear</td>\n",
       "      <td>{'C': 0.1, 'gamma': 'scale', 'kernel': 'linear'}</td>\n",
       "      <td>0.779043</td>\n",
       "      <td>0.792711</td>\n",
       "      <td>0.751708</td>\n",
       "      <td>0.783599</td>\n",
       "      <td>0.779043</td>\n",
       "      <td>0.777221</td>\n",
       "      <td>0.013698</td>\n",
       "      <td>1</td>\n",
       "    </tr>\n",
       "    <tr>\n",
       "      <th>2</th>\n",
       "      <td>0.563692</td>\n",
       "      <td>0.118982</td>\n",
       "      <td>0.100332</td>\n",
       "      <td>0.022055</td>\n",
       "      <td>0.1</td>\n",
       "      <td>auto</td>\n",
       "      <td>linear</td>\n",
       "      <td>{'C': 0.1, 'gamma': 'auto', 'kernel': 'linear'}</td>\n",
       "      <td>0.779043</td>\n",
       "      <td>0.792711</td>\n",
       "      <td>0.751708</td>\n",
       "      <td>0.783599</td>\n",
       "      <td>0.779043</td>\n",
       "      <td>0.777221</td>\n",
       "      <td>0.013698</td>\n",
       "      <td>1</td>\n",
       "    </tr>\n",
       "    <tr>\n",
       "      <th>5</th>\n",
       "      <td>0.721469</td>\n",
       "      <td>0.209262</td>\n",
       "      <td>0.117685</td>\n",
       "      <td>0.034172</td>\n",
       "      <td>10</td>\n",
       "      <td>scale</td>\n",
       "      <td>rbf</td>\n",
       "      <td>{'C': 10, 'gamma': 'scale', 'kernel': 'rbf'}</td>\n",
       "      <td>0.765376</td>\n",
       "      <td>0.794989</td>\n",
       "      <td>0.751708</td>\n",
       "      <td>0.767654</td>\n",
       "      <td>0.790433</td>\n",
       "      <td>0.774032</td>\n",
       "      <td>0.016261</td>\n",
       "      <td>3</td>\n",
       "    </tr>\n",
       "    <tr>\n",
       "      <th>4</th>\n",
       "      <td>0.807839</td>\n",
       "      <td>0.283839</td>\n",
       "      <td>0.073204</td>\n",
       "      <td>0.030886</td>\n",
       "      <td>10</td>\n",
       "      <td>scale</td>\n",
       "      <td>linear</td>\n",
       "      <td>{'C': 10, 'gamma': 'scale', 'kernel': 'linear'}</td>\n",
       "      <td>0.747153</td>\n",
       "      <td>0.763098</td>\n",
       "      <td>0.758542</td>\n",
       "      <td>0.740319</td>\n",
       "      <td>0.772210</td>\n",
       "      <td>0.756264</td>\n",
       "      <td>0.011344</td>\n",
       "      <td>4</td>\n",
       "    </tr>\n",
       "    <tr>\n",
       "      <th>6</th>\n",
       "      <td>0.678186</td>\n",
       "      <td>0.190148</td>\n",
       "      <td>0.074002</td>\n",
       "      <td>0.028701</td>\n",
       "      <td>10</td>\n",
       "      <td>auto</td>\n",
       "      <td>linear</td>\n",
       "      <td>{'C': 10, 'gamma': 'auto', 'kernel': 'linear'}</td>\n",
       "      <td>0.747153</td>\n",
       "      <td>0.763098</td>\n",
       "      <td>0.758542</td>\n",
       "      <td>0.740319</td>\n",
       "      <td>0.772210</td>\n",
       "      <td>0.756264</td>\n",
       "      <td>0.011344</td>\n",
       "      <td>4</td>\n",
       "    </tr>\n",
       "  </tbody>\n",
       "</table>\n",
       "</div>"
      ],
      "text/plain": [
       "   mean_fit_time  std_fit_time  mean_score_time  std_score_time param_C  \\\n",
       "0       0.383971      0.017182         0.074401        0.003192     0.1   \n",
       "2       0.563692      0.118982         0.100332        0.022055     0.1   \n",
       "5       0.721469      0.209262         0.117685        0.034172      10   \n",
       "4       0.807839      0.283839         0.073204        0.030886      10   \n",
       "6       0.678186      0.190148         0.074002        0.028701      10   \n",
       "\n",
       "  param_gamma param_kernel                                            params  \\\n",
       "0       scale       linear  {'C': 0.1, 'gamma': 'scale', 'kernel': 'linear'}   \n",
       "2        auto       linear   {'C': 0.1, 'gamma': 'auto', 'kernel': 'linear'}   \n",
       "5       scale          rbf      {'C': 10, 'gamma': 'scale', 'kernel': 'rbf'}   \n",
       "4       scale       linear   {'C': 10, 'gamma': 'scale', 'kernel': 'linear'}   \n",
       "6        auto       linear    {'C': 10, 'gamma': 'auto', 'kernel': 'linear'}   \n",
       "\n",
       "   split0_test_score  split1_test_score  split2_test_score  split3_test_score  \\\n",
       "0           0.779043           0.792711           0.751708           0.783599   \n",
       "2           0.779043           0.792711           0.751708           0.783599   \n",
       "5           0.765376           0.794989           0.751708           0.767654   \n",
       "4           0.747153           0.763098           0.758542           0.740319   \n",
       "6           0.747153           0.763098           0.758542           0.740319   \n",
       "\n",
       "   split4_test_score  mean_test_score  std_test_score  rank_test_score  \n",
       "0           0.779043         0.777221        0.013698                1  \n",
       "2           0.779043         0.777221        0.013698                1  \n",
       "5           0.790433         0.774032        0.016261                3  \n",
       "4           0.772210         0.756264        0.011344                4  \n",
       "6           0.772210         0.756264        0.011344                4  "
      ]
     },
     "execution_count": 16,
     "metadata": {},
     "output_type": "execute_result"
    }
   ],
   "source": [
    "# Best fitted models \n",
    "import pandas as pd\n",
    "results = pd.DataFrame(grid.cv_results_)\n",
    "results.sort_values(by='rank_test_score', inplace=True)\n",
    "results.head()"
   ]
  },
  {
   "cell_type": "code",
   "execution_count": 14,
   "id": "dfef896b",
   "metadata": {},
   "outputs": [],
   "source": [
    "model = SVC(C = 0.1, gamma = 'scale', kernel = 'linear') \n",
    "model.fit(X_train, y_train) \n",
    "\n",
    "# print prediction results \n",
    "predictions = model.predict(X_test) "
   ]
  },
  {
   "cell_type": "code",
   "execution_count": 45,
   "id": "d3c4de97",
   "metadata": {},
   "outputs": [
    {
     "ename": "AttributeError",
     "evalue": "'Sequential' object has no attribute 'score'",
     "output_type": "error",
     "traceback": [
      "\u001b[1;31m---------------------------------------------------------------------------\u001b[0m",
      "\u001b[1;31mAttributeError\u001b[0m                            Traceback (most recent call last)",
      "Input \u001b[1;32mIn [45]\u001b[0m, in \u001b[0;36m<cell line: 1>\u001b[1;34m()\u001b[0m\n\u001b[1;32m----> 1\u001b[0m score \u001b[38;5;241m=\u001b[39m \u001b[43mmodel\u001b[49m\u001b[38;5;241;43m.\u001b[39;49m\u001b[43mscore\u001b[49m(X_test, y_test)\n\u001b[0;32m      3\u001b[0m \u001b[38;5;28mprint\u001b[39m(\u001b[38;5;124m\"\u001b[39m\u001b[38;5;124mAccuracy:\u001b[39m\u001b[38;5;124m\"\u001b[39m, score)\n",
      "\u001b[1;31mAttributeError\u001b[0m: 'Sequential' object has no attribute 'score'"
     ]
    }
   ],
   "source": [
    "score = model.score(X_test, y_test)\n",
    "\n",
    "print(\"Accuracy:\", score)"
   ]
  },
  {
   "cell_type": "code",
   "execution_count": 15,
   "id": "0a5297d3",
   "metadata": {},
   "outputs": [
    {
     "name": "stdout",
     "output_type": "stream",
     "text": [
      "              precision    recall  f1-score   support\n",
      "\n",
      "           0       0.72      0.87      0.79       257\n",
      "           1       0.86      0.71      0.77       292\n",
      "\n",
      "    accuracy                           0.78       549\n",
      "   macro avg       0.79      0.79      0.78       549\n",
      "weighted avg       0.79      0.78      0.78       549\n",
      "\n"
     ]
    }
   ],
   "source": [
    "# print classification report \n",
    "print(classification_report(y_test, predictions))"
   ]
  },
  {
   "cell_type": "code",
   "execution_count": 17,
   "id": "a210cf88",
   "metadata": {},
   "outputs": [],
   "source": [
    "#  save model\n",
    "filename = '../models/SVM_model.sav'\n",
    "pickle.dump(model, open(filename, 'wb'))"
   ]
  },
  {
   "cell_type": "markdown",
   "id": "801d7a76",
   "metadata": {},
   "source": [
    "### Use NN"
   ]
  },
  {
   "cell_type": "code",
   "execution_count": 36,
   "id": "32bb4407",
   "metadata": {},
   "outputs": [],
   "source": [
    "input_dim = X_train.shape[1]  # Number of features\n",
    "\n",
    "model = Sequential()\n",
    "model.add(layers.Dense(64, input_dim=input_dim, activation='relu'))\n",
    "model.add(layers.Dense(32, activation='relu'))\n",
    "model.add(layers.Dense(1, activation='sigmoid'))"
   ]
  },
  {
   "cell_type": "code",
   "execution_count": 37,
   "id": "8605a83f",
   "metadata": {},
   "outputs": [
    {
     "name": "stdout",
     "output_type": "stream",
     "text": [
      "Model: \"sequential\"\n",
      "_________________________________________________________________\n",
      " Layer (type)                Output Shape              Param #   \n",
      "=================================================================\n",
      " dense (Dense)               (None, 64)                293440    \n",
      "                                                                 \n",
      " dense_1 (Dense)             (None, 32)                2080      \n",
      "                                                                 \n",
      " dense_2 (Dense)             (None, 1)                 33        \n",
      "                                                                 \n",
      "=================================================================\n",
      "Total params: 295,553\n",
      "Trainable params: 295,553\n",
      "Non-trainable params: 0\n",
      "_________________________________________________________________\n"
     ]
    }
   ],
   "source": [
    "model.compile(loss='binary_crossentropy', \n",
    "               optimizer='adam', \n",
    "               metrics=['accuracy'])\n",
    "model.summary()"
   ]
  },
  {
   "cell_type": "code",
   "execution_count": 38,
   "id": "dcf93c42",
   "metadata": {},
   "outputs": [
    {
     "name": "stdout",
     "output_type": "stream",
     "text": [
      "Epoch 1/100\n"
     ]
    },
    {
     "name": "stderr",
     "output_type": "stream",
     "text": [
      "D:\\Anaconda\\lib\\site-packages\\tensorflow\\python\\framework\\indexed_slices.py:444: UserWarning: Converting sparse IndexedSlices(IndexedSlices(indices=Tensor(\"gradient_tape/sequential/dense/embedding_lookup_sparse/Reshape_1:0\", shape=(None,), dtype=int32), values=Tensor(\"gradient_tape/sequential/dense/embedding_lookup_sparse/Reshape:0\", shape=(None, 64), dtype=float32), dense_shape=Tensor(\"gradient_tape/sequential/dense/embedding_lookup_sparse/Cast:0\", shape=(2,), dtype=int32))) to a dense Tensor of unknown shape. This may consume a large amount of memory.\n",
      "  warnings.warn(\n"
     ]
    },
    {
     "name": "stdout",
     "output_type": "stream",
     "text": [
      "220/220 - 2s - loss: 0.6161 - accuracy: 0.6781 - val_loss: 0.4418 - val_accuracy: 0.8124 - 2s/epoch - 11ms/step\n",
      "Epoch 2/100\n",
      "220/220 - 1s - loss: 0.2782 - accuracy: 0.9006 - val_loss: 0.4223 - val_accuracy: 0.8015 - 1s/epoch - 5ms/step\n",
      "Epoch 3/100\n",
      "220/220 - 1s - loss: 0.1012 - accuracy: 0.9704 - val_loss: 0.4869 - val_accuracy: 0.7996 - 988ms/epoch - 4ms/step\n",
      "Epoch 4/100\n",
      "220/220 - 1s - loss: 0.0507 - accuracy: 0.9872 - val_loss: 0.5548 - val_accuracy: 0.8087 - 956ms/epoch - 4ms/step\n",
      "Epoch 5/100\n",
      "220/220 - 1s - loss: 0.0327 - accuracy: 0.9918 - val_loss: 0.6163 - val_accuracy: 0.8087 - 935ms/epoch - 4ms/step\n",
      "Epoch 6/100\n",
      "220/220 - 1s - loss: 0.0252 - accuracy: 0.9932 - val_loss: 0.6601 - val_accuracy: 0.8124 - 970ms/epoch - 4ms/step\n",
      "Epoch 7/100\n",
      "220/220 - 1s - loss: 0.0192 - accuracy: 0.9936 - val_loss: 0.7114 - val_accuracy: 0.8069 - 974ms/epoch - 4ms/step\n",
      "Epoch 8/100\n",
      "220/220 - 1s - loss: 0.0137 - accuracy: 0.9954 - val_loss: 0.7804 - val_accuracy: 0.8033 - 973ms/epoch - 4ms/step\n",
      "Epoch 9/100\n",
      "220/220 - -0s - loss: 0.0118 - accuracy: 0.9959 - val_loss: 0.8421 - val_accuracy: 0.8015 - -254516us/epoch - -1157us/step\n",
      "Epoch 10/100\n",
      "220/220 - 1s - loss: 0.0115 - accuracy: 0.9954 - val_loss: 0.8619 - val_accuracy: 0.8051 - 1s/epoch - 5ms/step\n",
      "Epoch 11/100\n",
      "220/220 - 1s - loss: 0.0104 - accuracy: 0.9954 - val_loss: 0.8993 - val_accuracy: 0.7978 - 1s/epoch - 5ms/step\n",
      "Epoch 12/100\n",
      "220/220 - 1s - loss: 0.0081 - accuracy: 0.9973 - val_loss: 0.9739 - val_accuracy: 0.7978 - 970ms/epoch - 4ms/step\n",
      "Epoch 13/100\n",
      "220/220 - 1s - loss: 0.0078 - accuracy: 0.9968 - val_loss: 0.9996 - val_accuracy: 0.7978 - 954ms/epoch - 4ms/step\n",
      "Epoch 14/100\n",
      "220/220 - 1s - loss: 0.0076 - accuracy: 0.9964 - val_loss: 1.0441 - val_accuracy: 0.8033 - 952ms/epoch - 4ms/step\n",
      "Epoch 15/100\n",
      "220/220 - 1s - loss: 0.0070 - accuracy: 0.9973 - val_loss: 1.0709 - val_accuracy: 0.8069 - 964ms/epoch - 4ms/step\n",
      "Epoch 16/100\n",
      "220/220 - 1s - loss: 0.0058 - accuracy: 0.9982 - val_loss: 1.1212 - val_accuracy: 0.7942 - 991ms/epoch - 5ms/step\n",
      "Epoch 17/100\n",
      "220/220 - 1s - loss: 0.0065 - accuracy: 0.9964 - val_loss: 1.1506 - val_accuracy: 0.7851 - 1s/epoch - 5ms/step\n",
      "Epoch 18/100\n",
      "220/220 - 1s - loss: 0.0064 - accuracy: 0.9973 - val_loss: 1.1680 - val_accuracy: 0.7923 - 1s/epoch - 5ms/step\n",
      "Epoch 19/100\n",
      "220/220 - 1s - loss: 0.0058 - accuracy: 0.9973 - val_loss: 1.1928 - val_accuracy: 0.7996 - 1s/epoch - 5ms/step\n",
      "Epoch 20/100\n",
      "220/220 - 1s - loss: 0.0058 - accuracy: 0.9977 - val_loss: 1.2359 - val_accuracy: 0.7923 - 959ms/epoch - 4ms/step\n",
      "Epoch 21/100\n",
      "220/220 - 1s - loss: 0.0066 - accuracy: 0.9977 - val_loss: 1.2202 - val_accuracy: 0.7978 - 1s/epoch - 5ms/step\n",
      "Epoch 22/100\n",
      "220/220 - 1s - loss: 0.0059 - accuracy: 0.9959 - val_loss: 1.2362 - val_accuracy: 0.7942 - 989ms/epoch - 4ms/step\n",
      "Epoch 23/100\n",
      "220/220 - 1s - loss: 0.0064 - accuracy: 0.9982 - val_loss: 1.2385 - val_accuracy: 0.8015 - 995ms/epoch - 5ms/step\n",
      "Epoch 24/100\n",
      "220/220 - 1s - loss: 0.0056 - accuracy: 0.9977 - val_loss: 1.2523 - val_accuracy: 0.8033 - 1s/epoch - 5ms/step\n",
      "Epoch 25/100\n",
      "220/220 - 1s - loss: 0.0055 - accuracy: 0.9982 - val_loss: 1.2554 - val_accuracy: 0.7960 - 1s/epoch - 5ms/step\n",
      "Epoch 26/100\n",
      "220/220 - 1s - loss: 0.0044 - accuracy: 0.9977 - val_loss: 1.2790 - val_accuracy: 0.8033 - 1s/epoch - 5ms/step\n",
      "Epoch 27/100\n",
      "220/220 - 1s - loss: 0.0057 - accuracy: 0.9973 - val_loss: 1.3026 - val_accuracy: 0.8033 - 1s/epoch - 5ms/step\n",
      "Epoch 28/100\n",
      "220/220 - 1s - loss: 0.0044 - accuracy: 0.9982 - val_loss: 1.2968 - val_accuracy: 0.7942 - 952ms/epoch - 4ms/step\n",
      "Epoch 29/100\n",
      "220/220 - 1s - loss: 0.0051 - accuracy: 0.9973 - val_loss: 1.3074 - val_accuracy: 0.7942 - 941ms/epoch - 4ms/step\n",
      "Epoch 30/100\n",
      "220/220 - 1s - loss: 0.0046 - accuracy: 0.9986 - val_loss: 1.3318 - val_accuracy: 0.8015 - 1s/epoch - 5ms/step\n",
      "Epoch 31/100\n",
      "220/220 - 1s - loss: 0.0048 - accuracy: 0.9986 - val_loss: 1.2971 - val_accuracy: 0.7960 - 1s/epoch - 5ms/step\n",
      "Epoch 32/100\n",
      "220/220 - 1s - loss: 0.0044 - accuracy: 0.9982 - val_loss: 1.3039 - val_accuracy: 0.7978 - 1s/epoch - 5ms/step\n",
      "Epoch 33/100\n",
      "220/220 - 1s - loss: 0.0052 - accuracy: 0.9977 - val_loss: 1.3125 - val_accuracy: 0.7887 - 1s/epoch - 5ms/step\n",
      "Epoch 34/100\n",
      "220/220 - 1s - loss: 0.0047 - accuracy: 0.9982 - val_loss: 1.3327 - val_accuracy: 0.7960 - 1s/epoch - 5ms/step\n",
      "Epoch 35/100\n",
      "220/220 - 1s - loss: 0.0046 - accuracy: 0.9973 - val_loss: 1.3319 - val_accuracy: 0.7996 - 1s/epoch - 5ms/step\n",
      "Epoch 36/100\n",
      "220/220 - 1s - loss: 0.0040 - accuracy: 0.9982 - val_loss: 1.3757 - val_accuracy: 0.7869 - 1s/epoch - 5ms/step\n",
      "Epoch 37/100\n",
      "220/220 - 1s - loss: 0.0050 - accuracy: 0.9982 - val_loss: 1.3719 - val_accuracy: 0.7978 - 1s/epoch - 5ms/step\n",
      "Epoch 38/100\n",
      "220/220 - 1s - loss: 0.0048 - accuracy: 0.9977 - val_loss: 1.3754 - val_accuracy: 0.7996 - 1s/epoch - 5ms/step\n",
      "Epoch 39/100\n",
      "220/220 - 1s - loss: 0.0038 - accuracy: 0.9982 - val_loss: 1.3818 - val_accuracy: 0.7996 - 972ms/epoch - 4ms/step\n",
      "Epoch 40/100\n",
      "220/220 - 1s - loss: 0.0046 - accuracy: 0.9977 - val_loss: 1.3715 - val_accuracy: 0.7942 - 973ms/epoch - 4ms/step\n",
      "Epoch 41/100\n",
      "220/220 - 1s - loss: 0.0042 - accuracy: 0.9977 - val_loss: 1.3797 - val_accuracy: 0.7996 - 1s/epoch - 5ms/step\n",
      "Epoch 42/100\n",
      "220/220 - 1s - loss: 0.0041 - accuracy: 0.9973 - val_loss: 1.4083 - val_accuracy: 0.7978 - 991ms/epoch - 5ms/step\n",
      "Epoch 43/100\n",
      "220/220 - 1s - loss: 0.0035 - accuracy: 0.9982 - val_loss: 1.4177 - val_accuracy: 0.7978 - 953ms/epoch - 4ms/step\n",
      "Epoch 44/100\n",
      "220/220 - 1s - loss: 0.0037 - accuracy: 0.9982 - val_loss: 1.4435 - val_accuracy: 0.7942 - 946ms/epoch - 4ms/step\n",
      "Epoch 45/100\n",
      "220/220 - 1s - loss: 0.0035 - accuracy: 0.9977 - val_loss: 1.4263 - val_accuracy: 0.7869 - 974ms/epoch - 4ms/step\n",
      "Epoch 46/100\n",
      "220/220 - 1s - loss: 0.1860 - accuracy: 0.9950 - val_loss: 1.4225 - val_accuracy: 0.7887 - 937ms/epoch - 4ms/step\n",
      "Epoch 47/100\n",
      "220/220 - 1s - loss: 0.0043 - accuracy: 0.9977 - val_loss: 1.4314 - val_accuracy: 0.7887 - 970ms/epoch - 4ms/step\n",
      "Epoch 48/100\n",
      "220/220 - 1s - loss: 0.0042 - accuracy: 0.9982 - val_loss: 1.4544 - val_accuracy: 0.7905 - 970ms/epoch - 4ms/step\n",
      "Epoch 49/100\n",
      "220/220 - 1s - loss: 0.0039 - accuracy: 0.9973 - val_loss: 1.4724 - val_accuracy: 0.7905 - 941ms/epoch - 4ms/step\n",
      "Epoch 50/100\n",
      "220/220 - 1s - loss: 0.0040 - accuracy: 0.9982 - val_loss: 1.4879 - val_accuracy: 0.7887 - 956ms/epoch - 4ms/step\n",
      "Epoch 51/100\n",
      "220/220 - 1s - loss: 0.0036 - accuracy: 0.9986 - val_loss: 1.4835 - val_accuracy: 0.7905 - 960ms/epoch - 4ms/step\n",
      "Epoch 52/100\n",
      "220/220 - 1s - loss: 0.0039 - accuracy: 0.9982 - val_loss: 1.4914 - val_accuracy: 0.7942 - 935ms/epoch - 4ms/step\n",
      "Epoch 53/100\n",
      "220/220 - 1s - loss: 0.0036 - accuracy: 0.9977 - val_loss: 1.5072 - val_accuracy: 0.7905 - 949ms/epoch - 4ms/step\n",
      "Epoch 54/100\n",
      "220/220 - 1s - loss: 0.0037 - accuracy: 0.9986 - val_loss: 1.5094 - val_accuracy: 0.7923 - 953ms/epoch - 4ms/step\n",
      "Epoch 55/100\n",
      "220/220 - 1s - loss: 0.0038 - accuracy: 0.9986 - val_loss: 1.5220 - val_accuracy: 0.7887 - 935ms/epoch - 4ms/step\n",
      "Epoch 56/100\n",
      "220/220 - 1s - loss: 0.0041 - accuracy: 0.9977 - val_loss: 1.5227 - val_accuracy: 0.7905 - 976ms/epoch - 4ms/step\n",
      "Epoch 57/100\n",
      "220/220 - 1s - loss: 0.0036 - accuracy: 0.9977 - val_loss: 1.5380 - val_accuracy: 0.7905 - 972ms/epoch - 4ms/step\n",
      "Epoch 58/100\n",
      "220/220 - 1s - loss: 0.0041 - accuracy: 0.9986 - val_loss: 1.5335 - val_accuracy: 0.7960 - 999ms/epoch - 5ms/step\n",
      "Epoch 59/100\n",
      "220/220 - 1s - loss: 0.0039 - accuracy: 0.9986 - val_loss: 1.5325 - val_accuracy: 0.7942 - 971ms/epoch - 4ms/step\n",
      "Epoch 60/100\n",
      "220/220 - 1s - loss: 0.0044 - accuracy: 0.9977 - val_loss: 1.5344 - val_accuracy: 0.7887 - 925ms/epoch - 4ms/step\n",
      "Epoch 61/100\n",
      "220/220 - 1s - loss: 0.0039 - accuracy: 0.9977 - val_loss: 1.5444 - val_accuracy: 0.7887 - 955ms/epoch - 4ms/step\n",
      "Epoch 62/100\n",
      "220/220 - 1s - loss: 0.0038 - accuracy: 0.9977 - val_loss: 1.5591 - val_accuracy: 0.7923 - 947ms/epoch - 4ms/step\n",
      "Epoch 63/100\n",
      "220/220 - 1s - loss: 0.0043 - accuracy: 0.9977 - val_loss: 1.5443 - val_accuracy: 0.7923 - 932ms/epoch - 4ms/step\n",
      "Epoch 64/100\n",
      "220/220 - 1s - loss: 0.0041 - accuracy: 0.9982 - val_loss: 1.5399 - val_accuracy: 0.7923 - 957ms/epoch - 4ms/step\n",
      "Epoch 65/100\n",
      "220/220 - 1s - loss: 0.0043 - accuracy: 0.9982 - val_loss: 1.5380 - val_accuracy: 0.7942 - 958ms/epoch - 4ms/step\n",
      "Epoch 66/100\n",
      "220/220 - 1s - loss: 0.0037 - accuracy: 0.9982 - val_loss: 1.5442 - val_accuracy: 0.7942 - 955ms/epoch - 4ms/step\n"
     ]
    },
    {
     "name": "stdout",
     "output_type": "stream",
     "text": [
      "Epoch 67/100\n",
      "220/220 - 1s - loss: 0.0040 - accuracy: 0.9973 - val_loss: 1.5522 - val_accuracy: 0.7942 - 945ms/epoch - 4ms/step\n",
      "Epoch 68/100\n",
      "220/220 - 1s - loss: 0.0046 - accuracy: 0.9977 - val_loss: 1.5363 - val_accuracy: 0.7923 - 1s/epoch - 5ms/step\n",
      "Epoch 69/100\n",
      "220/220 - 1s - loss: 0.0039 - accuracy: 0.9977 - val_loss: 1.5514 - val_accuracy: 0.7942 - 1s/epoch - 5ms/step\n",
      "Epoch 70/100\n",
      "220/220 - 1s - loss: 0.0034 - accuracy: 0.9986 - val_loss: 1.5652 - val_accuracy: 0.7923 - 1s/epoch - 5ms/step\n",
      "Epoch 71/100\n",
      "220/220 - 1s - loss: 0.0042 - accuracy: 0.9973 - val_loss: 1.5504 - val_accuracy: 0.7905 - 1s/epoch - 5ms/step\n",
      "Epoch 72/100\n",
      "220/220 - 1s - loss: 0.0038 - accuracy: 0.9982 - val_loss: 1.5385 - val_accuracy: 0.7942 - 1s/epoch - 5ms/step\n",
      "Epoch 73/100\n",
      "220/220 - 1s - loss: 0.0040 - accuracy: 0.9986 - val_loss: 1.5394 - val_accuracy: 0.7905 - 1s/epoch - 5ms/step\n",
      "Epoch 74/100\n",
      "220/220 - 1s - loss: 0.0038 - accuracy: 0.9986 - val_loss: 1.5422 - val_accuracy: 0.7887 - 1s/epoch - 5ms/step\n",
      "Epoch 75/100\n",
      "220/220 - 1s - loss: 0.0034 - accuracy: 0.9973 - val_loss: 1.5769 - val_accuracy: 0.7978 - 1s/epoch - 5ms/step\n",
      "Epoch 76/100\n",
      "220/220 - 1s - loss: 0.0037 - accuracy: 0.9977 - val_loss: 1.5503 - val_accuracy: 0.7905 - 1s/epoch - 5ms/step\n",
      "Epoch 77/100\n",
      "220/220 - 1s - loss: 0.0036 - accuracy: 0.9986 - val_loss: 1.5552 - val_accuracy: 0.7832 - 1s/epoch - 5ms/step\n",
      "Epoch 78/100\n",
      "220/220 - 1s - loss: 0.0037 - accuracy: 0.9977 - val_loss: 1.5547 - val_accuracy: 0.7923 - 1s/epoch - 5ms/step\n",
      "Epoch 79/100\n",
      "220/220 - 1s - loss: 0.0036 - accuracy: 0.9982 - val_loss: 1.5649 - val_accuracy: 0.7978 - 1s/epoch - 5ms/step\n",
      "Epoch 80/100\n",
      "220/220 - 1s - loss: 0.0037 - accuracy: 0.9982 - val_loss: 1.5669 - val_accuracy: 0.8015 - 1s/epoch - 5ms/step\n",
      "Epoch 81/100\n",
      "220/220 - 1s - loss: 0.0036 - accuracy: 0.9982 - val_loss: 1.5450 - val_accuracy: 0.7905 - 1s/epoch - 5ms/step\n",
      "Epoch 82/100\n",
      "220/220 - 1s - loss: 0.0035 - accuracy: 0.9982 - val_loss: 1.5497 - val_accuracy: 0.7869 - 1s/epoch - 5ms/step\n",
      "Epoch 83/100\n",
      "220/220 - 1s - loss: 0.0035 - accuracy: 0.9982 - val_loss: 1.5593 - val_accuracy: 0.7923 - 1s/epoch - 5ms/step\n",
      "Epoch 84/100\n",
      "220/220 - 1s - loss: 0.0037 - accuracy: 0.9986 - val_loss: 1.5349 - val_accuracy: 0.7905 - 1s/epoch - 5ms/step\n",
      "Epoch 85/100\n",
      "220/220 - 1s - loss: 0.0035 - accuracy: 0.9982 - val_loss: 1.5409 - val_accuracy: 0.7923 - 978ms/epoch - 4ms/step\n",
      "Epoch 86/100\n",
      "220/220 - 1s - loss: 0.0038 - accuracy: 0.9977 - val_loss: 1.5677 - val_accuracy: 0.7869 - 966ms/epoch - 4ms/step\n",
      "Epoch 87/100\n",
      "220/220 - 1s - loss: 0.0034 - accuracy: 0.9982 - val_loss: 1.5512 - val_accuracy: 0.7832 - 970ms/epoch - 4ms/step\n",
      "Epoch 88/100\n",
      "220/220 - 1s - loss: 0.0034 - accuracy: 0.9982 - val_loss: 1.5696 - val_accuracy: 0.7905 - 1s/epoch - 5ms/step\n",
      "Epoch 89/100\n",
      "220/220 - 1s - loss: 0.0034 - accuracy: 0.9982 - val_loss: 1.5787 - val_accuracy: 0.7832 - 1000ms/epoch - 5ms/step\n",
      "Epoch 90/100\n",
      "220/220 - 1s - loss: 0.0037 - accuracy: 0.9973 - val_loss: 1.5656 - val_accuracy: 0.7905 - 968ms/epoch - 4ms/step\n",
      "Epoch 91/100\n",
      "220/220 - 1s - loss: 0.0036 - accuracy: 0.9982 - val_loss: 1.5447 - val_accuracy: 0.7887 - 958ms/epoch - 4ms/step\n",
      "Epoch 92/100\n",
      "220/220 - 1s - loss: 0.0032 - accuracy: 0.9977 - val_loss: 1.5690 - val_accuracy: 0.7814 - 947ms/epoch - 4ms/step\n",
      "Epoch 93/100\n",
      "220/220 - 1s - loss: 0.0032 - accuracy: 0.9982 - val_loss: 1.5706 - val_accuracy: 0.7869 - 955ms/epoch - 4ms/step\n",
      "Epoch 94/100\n",
      "220/220 - 1s - loss: 0.0033 - accuracy: 0.9977 - val_loss: 1.6087 - val_accuracy: 0.7778 - 946ms/epoch - 4ms/step\n",
      "Epoch 95/100\n",
      "220/220 - 1s - loss: 0.0034 - accuracy: 0.9986 - val_loss: 1.5703 - val_accuracy: 0.7887 - 961ms/epoch - 4ms/step\n",
      "Epoch 96/100\n",
      "220/220 - 1s - loss: 0.0033 - accuracy: 0.9982 - val_loss: 1.6070 - val_accuracy: 0.7869 - 939ms/epoch - 4ms/step\n",
      "Epoch 97/100\n",
      "220/220 - 1s - loss: 0.0037 - accuracy: 0.9977 - val_loss: 1.5075 - val_accuracy: 0.7814 - 964ms/epoch - 4ms/step\n",
      "Epoch 98/100\n",
      "220/220 - 1s - loss: 0.0031 - accuracy: 0.9973 - val_loss: 1.5801 - val_accuracy: 0.7851 - 946ms/epoch - 4ms/step\n",
      "Epoch 99/100\n",
      "220/220 - 1s - loss: 0.0030 - accuracy: 0.9982 - val_loss: 1.5887 - val_accuracy: 0.7869 - 939ms/epoch - 4ms/step\n",
      "Epoch 100/100\n",
      "220/220 - 1s - loss: 0.0029 - accuracy: 0.9986 - val_loss: 1.6173 - val_accuracy: 0.7832 - 966ms/epoch - 4ms/step\n"
     ]
    }
   ],
   "source": [
    "history = model.fit(X_train, y_train,\n",
    "...                     epochs=100,\n",
    "...                     verbose=2,\n",
    "...                     validation_data=(X_test, y_test),\n",
    "...                     batch_size=10)"
   ]
  },
  {
   "cell_type": "code",
   "execution_count": 26,
   "id": "e601848f",
   "metadata": {},
   "outputs": [
    {
     "data": {
      "text/plain": [
       "<keras.callbacks.History at 0x17be8d04eb0>"
      ]
     },
     "execution_count": 26,
     "metadata": {},
     "output_type": "execute_result"
    }
   ],
   "source": [
    "history"
   ]
  },
  {
   "cell_type": "code",
   "execution_count": 32,
   "id": "43815d93",
   "metadata": {},
   "outputs": [],
   "source": [
    "from keras.backend import clear_session\n",
    "clear_session()"
   ]
  },
  {
   "cell_type": "code",
   "execution_count": 33,
   "id": "766fc1f2",
   "metadata": {},
   "outputs": [
    {
     "name": "stdout",
     "output_type": "stream",
     "text": [
      "Training Accuracy: 0.9986\n",
      "Testing Accuracy:  0.8015\n"
     ]
    }
   ],
   "source": [
    "loss, accuracy = model.evaluate(X_train, y_train, verbose=False)\n",
    "print(\"Training Accuracy: {:.4f}\".format(accuracy))\n",
    "loss, accuracy = model.evaluate(X_test, y_test, verbose=False)\n",
    "print(\"Testing Accuracy:  {:.4f}\".format(accuracy))"
   ]
  },
  {
   "cell_type": "code",
   "execution_count": 34,
   "id": "f3864d82",
   "metadata": {},
   "outputs": [],
   "source": [
    "import matplotlib.pyplot as plt\n",
    "plt.style.use('ggplot')\n",
    "\n",
    "def plot_history(history):\n",
    "    acc = history.history['accuracy']\n",
    "    val_acc = history.history['val_accuracy']\n",
    "    loss = history.history['loss']\n",
    "    val_loss = history.history['val_loss']\n",
    "    x = range(1, len(acc) + 1)\n",
    "\n",
    "    plt.figure(figsize=(12, 5))\n",
    "    plt.subplot(1, 2, 1)\n",
    "    plt.plot(x, acc, 'b', label='Training acc')\n",
    "    plt.plot(x, val_acc, 'r', label='Validation acc')\n",
    "    plt.title('Training and validation accuracy')\n",
    "    plt.legend()\n",
    "    plt.subplot(1, 2, 2)\n",
    "    plt.plot(x, loss, 'b', label='Training loss')\n",
    "    plt.plot(x, val_loss, 'r', label='Validation loss')\n",
    "    plt.title('Training and validation loss')\n",
    "    plt.legend()"
   ]
  },
  {
   "cell_type": "code",
   "execution_count": 35,
   "id": "7c38b8ae",
   "metadata": {},
   "outputs": [
    {
     "data": {
      "image/png": "[encoded data removed]",
      "text/plain": [
       "<Figure size 864x360 with 2 Axes>"
      ]
     },
     "metadata": {},
     "output_type": "display_data"
    }
   ],
   "source": [
    "plot_history(history)"
   ]
  },
  {
   "cell_type": "code",
   "execution_count": 39,
   "id": "aab0cf64",
   "metadata": {},
   "outputs": [
    {
     "name": "stdout",
     "output_type": "stream",
     "text": [
      "INFO:tensorflow:Assets written to: ram://e310fd03-77a1-4a09-87b6-a4ca2aef9523/assets\n"
     ]
    }
   ],
   "source": [
    "#  save model\n",
    "filename = '../models/NN.sav'\n",
    "pickle.dump(model, open(filename, 'wb'))"
   ]
  }
 ],
 "metadata": {
  "kernelspec": {
   "display_name": "Python 3 (ipykernel)",
   "language": "python",
   "name": "python3"
  },
  "language_info": {
   "codemirror_mode": {
    "name": "ipython",
    "version": 3
   },
   "file_extension": ".py",
   "mimetype": "text/x-python",
   "name": "python",
   "nbconvert_exporter": "python",
   "pygments_lexer": "ipython3",
   "version": "3.9.12"
  }
 },
 "nbformat": 4,
 "nbformat_minor": 5
}
